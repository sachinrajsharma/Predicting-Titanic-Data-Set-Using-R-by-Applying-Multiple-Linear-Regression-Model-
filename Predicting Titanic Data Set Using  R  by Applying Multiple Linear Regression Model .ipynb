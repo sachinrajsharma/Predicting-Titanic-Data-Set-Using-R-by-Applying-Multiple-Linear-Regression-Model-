{
 "cells": [
  {
   "cell_type": "markdown",
   "metadata": {},
   "source": [
    "# IMPORTING THE DATA "
   ]
  },
  {
   "cell_type": "code",
   "execution_count": null,
   "metadata": {},
   "outputs": [],
   "source": [
    "train = read.csv('train.csv')"
   ]
  },
  {
   "cell_type": "markdown",
   "metadata": {},
   "source": [
    "# VIEWING DATA "
   ]
  },
  {
   "cell_type": "code",
   "execution_count": null,
   "metadata": {},
   "outputs": [],
   "source": [
    "head(train)"
   ]
  },
  {
   "cell_type": "markdown",
   "metadata": {},
   "source": [
    "# CHECKING WHICH COLUMNS HAVE NAN VALUES WHICH ARE HAVING NUMERICAL DATA ONLY "
   ]
  },
  {
   "cell_type": "code",
   "execution_count": null,
   "metadata": {},
   "outputs": [],
   "source": [
    "names(which(sapply(train, anyNA)))"
   ]
  },
  {
   "cell_type": "markdown",
   "metadata": {},
   "source": [
    "# TO CHECK TOTAL NUMBER OF NAN VALUES IN THE DATA "
   ]
  },
  {
   "cell_type": "code",
   "execution_count": null,
   "metadata": {},
   "outputs": [],
   "source": [
    "sum(is.na(train))"
   ]
  },
  {
   "cell_type": "markdown",
   "metadata": {},
   "source": [
    "# HANDLING MISSING VALUES IN THE DATA FRAME "
   ]
  },
  {
   "cell_type": "code",
   "execution_count": null,
   "metadata": {},
   "outputs": [],
   "source": [
    "## THIS WILL FILL THE NAN VALUES WITH THE AVERAGE OF AGE IN THE ENTIRE COLUMN OF AGE \n",
    "sum(is.na(train$Age))\n",
    "train$Age = ifelse(is.na(train$Age),\n",
    "                   ave(train$Age, FUN = function(x)mean(x, na.rm = TRUE)),\n",
    "                   train$Age)\n"
   ]
  },
  {
   "cell_type": "markdown",
   "metadata": {},
   "source": [
    "# ENCODING THE CATEGORICAL DATA "
   ]
  },
  {
   "cell_type": "code",
   "execution_count": null,
   "metadata": {},
   "outputs": [],
   "source": [
    "# THIS WILL GIVE ENCODING TO SEX COLUMN AND EMBARKED COLUMN \n",
    "\n",
    "train$Sex = factor(train$Sex, levels = c('male','female'),\n",
    "                   labels = c(0,1))\n",
    "train$Sex\n",
    "head(train)\n",
    "\n",
    "train$Embarked = factor(train$Embarked, levels = c('C','Q','S'),\n",
    "                   labels = c(0,1,2), )\n",
    "train$Embarked\n",
    "summary(train$Embarked)\n",
    "\n"
   ]
  },
  {
   "cell_type": "code",
   "execution_count": null,
   "metadata": {},
   "outputs": [],
   "source": [
    "# THIS WILL REMOVE ALL NAN VALUES FROM THE DATA \n",
    "\n",
    "train = train[complete.cases(train), ]\n",
    "sum(is.na(train))\n",
    "# NOW DATA IS CLEAN "
   ]
  },
  {
   "cell_type": "code",
   "execution_count": null,
   "metadata": {},
   "outputs": [],
   "source": [
    "\n",
    "# PUTTING SURVIVED COLUMNS AT THE END OF THE DATA \n",
    "\n",
    "train = train[c('PassengerId','Pclass','Sex','Age','SibSp','Parch','Fare','Embarked','Survived')]\n",
    "head(train)\n"
   ]
  },
  {
   "cell_type": "markdown",
   "metadata": {},
   "source": [
    "# IMPORTING THE TEST DATA "
   ]
  },
  {
   "cell_type": "code",
   "execution_count": null,
   "metadata": {},
   "outputs": [],
   "source": [
    "test = read.csv('test.csv')"
   ]
  },
  {
   "cell_type": "markdown",
   "metadata": {},
   "source": [
    "# VISUALIZING THE MISSING DATA ( IF ANY )"
   ]
  },
  {
   "cell_type": "code",
   "execution_count": null,
   "metadata": {},
   "outputs": [],
   "source": [
    "#VISUALIZING MISSING DATA \n",
    "install.packages(\"naniar\")\n",
    "\n",
    "library(naniar)\n",
    "vis_miss(test) #THIS SHOWS WE HAVE MISSING VALUES IN AGE AND FARE WE CAN CONFIRM USING THE FOLLOWING CODE \n",
    "\n",
    "gg_miss_upset(test)\n"
   ]
  },
  {
   "cell_type": "markdown",
   "metadata": {},
   "source": [
    "# FEATURE SCALING ( FOR REFERENCE IF REQUIRED , YOU CAN USE IT TO CHECK THE IMPACT OF PREDICTED RESULTS LATER)"
   ]
  },
  {
   "cell_type": "code",
   "execution_count": null,
   "metadata": {},
   "outputs": [],
   "source": [
    "head(train)\n",
    "train[, 4]=scale(train[, 4]) # IT HAS CONVERTED AGE COLUMN \n",
    "train[, 7]=scale(train[, 7]) # IT HAS CONVERTED AGE COLUMN \n",
    "head(train)\n"
   ]
  },
  {
   "cell_type": "markdown",
   "metadata": {},
   "source": [
    "# CHECKING THE MISSING VALUES IN TEST DATASET "
   ]
  },
  {
   "cell_type": "code",
   "execution_count": null,
   "metadata": {},
   "outputs": [],
   "source": [
    "sum(is.na(test$Age))\n",
    "sum(is.na(test$Fare))\n",
    "\n",
    "sum(is.na(test))\n",
    "\n",
    "# SO THERE ARE 87 missing data 86 + 1 in total \n"
   ]
  },
  {
   "cell_type": "markdown",
   "metadata": {},
   "source": [
    "# LETS FIRST DROP THE EXTRA COLUMNS NOT REQUIRED FOR ANALYSIS WITH SAME SEQUENCE OF COLUMN AS IN TRAIN DATA \n"
   ]
  },
  {
   "cell_type": "code",
   "execution_count": null,
   "metadata": {},
   "outputs": [],
   "source": [
    "test = test[c('PassengerId','Pclass','Sex','Age','SibSp','Parch','Fare','Embarked')]\n",
    "head(test)\n"
   ]
  },
  {
   "cell_type": "markdown",
   "metadata": {},
   "source": [
    "# LETS ADD NEW COLUMNS SURVIVED AT THE END OF THE DATA AS SAME IN TRAIN DATA "
   ]
  },
  {
   "cell_type": "code",
   "execution_count": null,
   "metadata": {},
   "outputs": [],
   "source": [
    "test['Survived'] = 0"
   ]
  },
  {
   "cell_type": "markdown",
   "metadata": {},
   "source": [
    "# NOW FIRST REPLACE NAN VALUES IN AGE COLUMN AND FARE COLUMN WITH AVERAGE AND THEN DEAL WITH SURVIVED \n"
   ]
  },
  {
   "cell_type": "code",
   "execution_count": null,
   "metadata": {},
   "outputs": [],
   "source": [
    "test$Age = ifelse(is.na(test$Age), ave(test$Age, FUN = function(x)mean(x, na.rm = TRUE)),\n",
    "                  test$Age)\n",
    "\n",
    "\n",
    "sum(is.na(test$Age))\n",
    "\n",
    "\n",
    "test$Fare = ifelse(is.na(test$Fare), ave(test$Fare, FUN = function(x)mean(x, na.rm = TRUE)),\n",
    "                  test$Fare)\n",
    "\n",
    "\n",
    "sum(is.na(test$Fare))\n",
    "\n",
    "# NOW ALL THE  NAN VALUES IN AGE AND FARE HAS BEEN REMOVED  "
   ]
  },
  {
   "cell_type": "markdown",
   "metadata": {},
   "source": [
    "\n",
    "# HANDLING CATEGORICAL DATA IN TEST DATA SET "
   ]
  },
  {
   "cell_type": "code",
   "execution_count": null,
   "metadata": {},
   "outputs": [],
   "source": [
    "test$Sex = factor(test$Sex, levels = c('male','female'),\n",
    "                        labels = c(0,1), )\n",
    "test$Sex\n",
    "\n",
    "\n",
    "test$Embarked = factor(test$Embarked, levels = c('C','Q','S'),\n",
    "                        labels = c(0,1,2), )\n",
    "\n",
    "\n",
    "\n",
    "summary(test$Embarked)\n",
    "head(test)\n"
   ]
  },
  {
   "cell_type": "markdown",
   "metadata": {},
   "source": [
    "# REMOVING ALL NAN VALUES IN TEST DATA SET IF ANY "
   ]
  },
  {
   "cell_type": "code",
   "execution_count": null,
   "metadata": {},
   "outputs": [],
   "source": [
    "test = test[complete.cases(test),]\n",
    "sum(is.na(test))"
   ]
  },
  {
   "cell_type": "markdown",
   "metadata": {},
   "source": [
    "\n",
    "# MULTIPLE LINEAR REGRESSION \n",
    "\n",
    "\n"
   ]
  },
  {
   "cell_type": "code",
   "execution_count": null,
   "metadata": {},
   "outputs": [],
   "source": [
    "#FITTING MULTIPLE LINEAR REGRESSION TO THE TRAINING SET \n",
    "regressor = lm(formula = Survived ~., \n",
    "               data = train)\n"
   ]
  },
  {
   "cell_type": "markdown",
   "metadata": {},
   "source": [
    "\n",
    "# PREDICTING THE RESULTS ON TEST_SET DATA \n"
   ]
  },
  {
   "cell_type": "code",
   "execution_count": null,
   "metadata": {},
   "outputs": [],
   "source": [
    "y_pred1 = predict(regressor, newdata = test_set)\n",
    "\n",
    "typeof(y_pred1)"
   ]
  },
  {
   "cell_type": "markdown",
   "metadata": {},
   "source": [
    "## TRANSORMING THOSE PROBABILITIES IN 0 AND 1 "
   ]
  },
  {
   "cell_type": "code",
   "execution_count": null,
   "metadata": {},
   "outputs": [],
   "source": [
    "y_pred_1 = ifelse(y_pred1 > 0.6,1,0)\n",
    "y_pred_1\n",
    "head(y_pred_1)\n"
   ]
  },
  {
   "cell_type": "markdown",
   "metadata": {},
   "source": [
    "# MAKING CONFUSION MATRIX "
   ]
  },
  {
   "cell_type": "code",
   "execution_count": null,
   "metadata": {},
   "outputs": [],
   "source": [
    "head(test_set)\n",
    "cm = table(test_set[,9], y_pred_1)\n",
    "cm\n",
    "\n",
    "\n",
    "# 145 + 33 \n",
    "\n",
    "#145/178 = 81 % accuracy \n"
   ]
  },
  {
   "cell_type": "markdown",
   "metadata": {},
   "source": [
    "# PREDICTING THE TEST SET RESULTS ON ACTUAL TEST DATA "
   ]
  },
  {
   "cell_type": "code",
   "execution_count": null,
   "metadata": {},
   "outputs": [],
   "source": [
    "y_pred = predict(regressor, newdata =test )\n",
    "\n",
    "y_pred\n",
    "\n",
    "y_pred = ifelse(y_pred > 0.6,1,0)\n",
    "\n",
    "head(y_pred)\n",
    "\n"
   ]
  },
  {
   "cell_type": "markdown",
   "metadata": {},
   "source": [
    "# CREATING SUBMISSION FILE FOR KAGGLE "
   ]
  },
  {
   "cell_type": "markdown",
   "metadata": {},
   "source": [
    "submission = data.frame(test$PassengerId, y_pred)\n",
    "\n",
    "submission\n",
    "\n",
    "head(submission)\n",
    "install.packages('tidyverse')\n",
    "\n",
    "library(dplyr)\n",
    "library(tidyverse)\n",
    "\n",
    "\n",
    "write.csv(submission,\"submission.csv\", row.names = FALSE)\n",
    "# THIS WILL CREATE A CSV FILE IN SAME DIRECTORY IN WHICH YOU ARE WORKING.."
   ]
  },
  {
   "cell_type": "markdown",
   "metadata": {},
   "source": [
    "# HAPPY LEARNING "
   ]
  }
 ],
 "metadata": {
  "kernelspec": {
   "display_name": "Python 3",
   "language": "python",
   "name": "python3"
  },
  "language_info": {
   "codemirror_mode": {
    "name": "ipython",
    "version": 3
   },
   "file_extension": ".py",
   "mimetype": "text/x-python",
   "name": "python",
   "nbconvert_exporter": "python",
   "pygments_lexer": "ipython3",
   "version": "3.8.5"
  }
 },
 "nbformat": 4,
 "nbformat_minor": 4
}
